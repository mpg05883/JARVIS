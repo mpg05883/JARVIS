{
 "cells": [
  {
   "cell_type": "markdown",
   "id": "b3fb4cd4",
   "metadata": {},
   "source": [
    "# Together API Demo"
   ]
  },
  {
   "cell_type": "markdown",
   "id": "2453aba7",
   "metadata": {},
   "source": [
    "We'll run the [Llama 4 Scout](https://www.together.ai/models/llama-4-scout) example here."
   ]
  },
  {
   "cell_type": "code",
   "execution_count": 2,
   "id": "ddf4f9e0",
   "metadata": {},
   "outputs": [
    {
     "name": "stdout",
     "output_type": "stream",
     "text": [
      "The city that never sleeps! New York is an exciting and vibrant place with endless options for entertainment, culture, food, and adventure. Here are some fun things to do in New York:\n",
      "\n",
      "**Iconic Landmarks:**\n",
      "\n",
      "1. **Statue of Liberty and Ellis Island**: Take a ferry to Liberty Island to see the iconic statue up close and visit the Ellis Island Immigration Museum.\n",
      "2. **Central Park**: Explore the green oasis in the middle of Manhattan, rent a bike, or take a leisurely stroll.\n",
      "3. **Empire State Building**: Enjoy panoramic views of the city from the observation deck of this iconic skyscraper.\n",
      "4. **Times Square**: Experience the bright lights, giant billboards, and lively street performers of the \"Crossroads of the World.\"\n",
      "\n",
      "**Museums and Galleries:**\n",
      "\n",
      "1. **The Metropolitan Museum of Art**: One of the world's largest and most renowned museums, with a vast collection of art and artifacts.\n",
      "2. **American Museum of Natural History**: Explore the wonders of the natural world, from dinosaurs to space exploration.\n",
      "3. **The Museum of Modern Art (MoMA)**: Discover an extensive collection of modern and contemporary art.\n",
      "4. **Guggenheim Museum**: Designed by Frank Lloyd Wright, this iconic museum features an impressive collection of modern and contemporary art.\n",
      "\n",
      "**Broadway and Entertainment:**\n",
      "\n",
      "1. **Catch a Broadway Show**: Experience the magic of live theater with a performance of a hit musical or play.\n",
      "2. **Comedy Cellar**: Enjoy stand-up comedy from both established and up-and-coming comedians.\n",
      "3. **Madison Square Garden**: Catch a sports game, concert, or event at this legendary arena.\n",
      "\n",
      "**Food and Markets:**\n",
      "\n",
      "1. **Try a Classic New York-Style Pizza**: Visit Lombardi's, Joe's Pizza, or Patsy's Pizzeria for a slice of heaven.\n",
      "2. **Walk across the Brooklyn Bridge**: Take in stunning views of the Manhattan skyline while strolling across this iconic bridge.\n",
      "3. **Visit a Food Market**: Explore the offerings at Smorgasburg, Brooklyn Flea, or Chelsea Market.\n",
      "4. **Katz's Delicatessen**: Enjoy a classic Jewish deli experience at this iconic eatery.\n",
      "\n",
      "**Sports and Outdoor Activities:**\n",
      "\n",
      "1. **Yankee Stadium**: Catch a baseball game at the legendary home of the New York Yankees.\n",
      "2. **Central Park Zoo**: Visit the zoo and sea lion exhibit, or take a ride on the Central Park Carousel.\n",
      "3. **Kayaking on the Hudson River**: Rent a kayak and explore the river for a unique perspective on the city.\n",
      "4. **Rockefeller Center Ice Rink**: Enjoy ice skating in the heart of Manhattan.\n",
      "\n",
      "**Neighborhoods to Explore:**\n",
      "\n",
      "1. **Greenwich Village**: Discover charming streets, historic brownstones, and lively nightlife.\n",
      "2. **SoHo**: Explore trendy boutiques, art galleries, and cast-iron buildings.\n",
      "3. **Chinatown and Little Italy**: Experience the vibrant culture, food, and street art of these adjacent neighborhoods.\n",
      "4. **Williamsburg**: Visit this hip Brooklyn neighborhood for its indie music scene, vintage shops, and artisanal eateries.\n",
      "\n",
      "These are just a few of the many fun things to do in New York. With so much to see and do, you're sure to have an unforgettable experience in the Big Apple!\n"
     ]
    }
   ],
   "source": [
    "from dotenv import load_dotenv\n",
    "from together import Together\n",
    "\n",
    "load_dotenv()\n",
    "\n",
    "client = Together()\n",
    "\n",
    "response = client.chat.completions.create(\n",
    "    model=\"meta-llama/Llama-4-Scout-17B-16E-Instruct\",\n",
    "    messages=[\n",
    "        {\n",
    "            \"role\": \"user\",\n",
    "            \"content\": \"What are some fun things to do in New York?\",\n",
    "        }\n",
    "    ],\n",
    ")\n",
    "print(response.choices[0].message.content)"
   ]
  }
 ],
 "metadata": {
  "kernelspec": {
   "display_name": "taskbench",
   "language": "python",
   "name": "python3"
  },
  "language_info": {
   "codemirror_mode": {
    "name": "ipython",
    "version": 3
   },
   "file_extension": ".py",
   "mimetype": "text/x-python",
   "name": "python",
   "nbconvert_exporter": "python",
   "pygments_lexer": "ipython3",
   "version": "3.8.20"
  }
 },
 "nbformat": 4,
 "nbformat_minor": 5
}
