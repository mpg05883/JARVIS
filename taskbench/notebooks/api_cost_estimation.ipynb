{
 "cells": [
  {
   "cell_type": "markdown",
   "id": "ed0df2c9",
   "metadata": {},
   "source": [
    "# OpenAI API Call Estimation"
   ]
  },
  {
   "cell_type": "markdown",
   "id": "588328aa",
   "metadata": {},
   "source": [
    "Import packages."
   ]
  },
  {
   "cell_type": "code",
   "execution_count": 10,
   "id": "e784dde4",
   "metadata": {},
   "outputs": [],
   "source": [
    "import json\n",
    "import pandas as pd\n",
    "import tiktoken\n",
    "\n",
    "from pathlib import Path\n",
    "from tqdm.auto import tqdm"
   ]
  },
  {
   "cell_type": "markdown",
   "id": "0ff69dea",
   "metadata": {},
   "source": [
    "Read GPT-4's log file to count the number of successful API calls."
   ]
  },
  {
   "cell_type": "code",
   "execution_count": 11,
   "id": "c8d36abf",
   "metadata": {},
   "outputs": [
    {
     "data": {
      "application/vnd.jupyter.widget-view+json": {
       "model_id": "e2a6d25116d044138edc757458cbb934",
       "version_major": 2,
       "version_minor": 0
      },
      "text/plain": [
       "Counting API calls: 0line [00:00, ?line/s]"
      ]
     },
     "metadata": {},
     "output_type": "display_data"
    },
    {
     "name": "stdout",
     "output_type": "stream",
     "text": [
      "Number of successfull API calls: 55\n"
     ]
    }
   ],
   "source": [
    "data_dir = \"data_multimedia\"\n",
    "model = \"gpt-4\"\n",
    "log_path = Path(f\"../{data_dir}/predictions/{model}.log\")\n",
    "\n",
    "kwargs = {\n",
    "    \"desc\": \"Counting API calls\",\n",
    "    \"unit\": \"line\",\n",
    "}\n",
    "\n",
    "num_api_calls = 0\n",
    "with open(log_path, \"r\") as f:\n",
    "    for line in tqdm(f, **kwargs):\n",
    "        if \"Completed:\" in line:\n",
    "            num_api_calls = int(line.strip().split(\"Completed:\")[1].split()[0])\n",
    "\n",
    "print(f\"Number of successfull API calls: {num_api_calls}\")"
   ]
  },
  {
   "cell_type": "markdown",
   "id": "6b8b10c4",
   "metadata": {},
   "source": [
    "Load all of GPT-4's predictions."
   ]
  },
  {
   "cell_type": "code",
   "execution_count": 12,
   "id": "a9fb2540",
   "metadata": {},
   "outputs": [
    {
     "name": "stdout",
     "output_type": "stream",
     "text": [
      "Loaded 55 predictions\n"
     ]
    },
    {
     "data": {
      "text/html": [
       "<div>\n",
       "<style scoped>\n",
       "    .dataframe tbody tr th:only-of-type {\n",
       "        vertical-align: middle;\n",
       "    }\n",
       "\n",
       "    .dataframe tbody tr th {\n",
       "        vertical-align: top;\n",
       "    }\n",
       "\n",
       "    .dataframe thead th {\n",
       "        text-align: right;\n",
       "    }\n",
       "</style>\n",
       "<table border=\"1\" class=\"dataframe\">\n",
       "  <thead>\n",
       "    <tr style=\"text-align: right;\">\n",
       "      <th></th>\n",
       "      <th>id</th>\n",
       "      <th>user_request</th>\n",
       "      <th>result</th>\n",
       "    </tr>\n",
       "  </thead>\n",
       "  <tbody>\n",
       "    <tr>\n",
       "      <th>0</th>\n",
       "      <td>25850214</td>\n",
       "      <td>I have some text containing multiple URLs, and...</td>\n",
       "      <td>{'task_steps': ['Step 1: Extract all URLs from...</td>\n",
       "    </tr>\n",
       "    <tr>\n",
       "      <th>1</th>\n",
       "      <td>58722823</td>\n",
       "      <td>I need to speed up the video 'example.mp4' to ...</td>\n",
       "      <td>{'task_steps': ['Step 1: Adjust the playback s...</td>\n",
       "    </tr>\n",
       "    <tr>\n",
       "      <th>2</th>\n",
       "      <td>60128636</td>\n",
       "      <td>I have a video 'example.mp4' and a Spanish scr...</td>\n",
       "      <td>{'task_steps': ['Step 1: Translate the Spanish...</td>\n",
       "    </tr>\n",
       "    <tr>\n",
       "      <th>3</th>\n",
       "      <td>70835252</td>\n",
       "      <td>Please download the audio file from the follow...</td>\n",
       "      <td>{'task_steps': ['Step 1: Download the audio fi...</td>\n",
       "    </tr>\n",
       "    <tr>\n",
       "      <th>4</th>\n",
       "      <td>32414505</td>\n",
       "      <td>I have a Spanish text 'Hola mundo' and I want ...</td>\n",
       "      <td>{'task_steps': ['Step 1: Translate the Spanish...</td>\n",
       "    </tr>\n",
       "  </tbody>\n",
       "</table>\n",
       "</div>"
      ],
      "text/plain": [
       "         id                                       user_request  \\\n",
       "0  25850214  I have some text containing multiple URLs, and...   \n",
       "1  58722823  I need to speed up the video 'example.mp4' to ...   \n",
       "2  60128636  I have a video 'example.mp4' and a Spanish scr...   \n",
       "3  70835252  Please download the audio file from the follow...   \n",
       "4  32414505  I have a Spanish text 'Hola mundo' and I want ...   \n",
       "\n",
       "                                              result  \n",
       "0  {'task_steps': ['Step 1: Extract all URLs from...  \n",
       "1  {'task_steps': ['Step 1: Adjust the playback s...  \n",
       "2  {'task_steps': ['Step 1: Translate the Spanish...  \n",
       "3  {'task_steps': ['Step 1: Download the audio fi...  \n",
       "4  {'task_steps': ['Step 1: Translate the Spanish...  "
      ]
     },
     "execution_count": 12,
     "metadata": {},
     "output_type": "execute_result"
    }
   ],
   "source": [
    "predictions_path = Path(f\"../{data_dir}/predictions/{model}.json\")\n",
    "\n",
    "kwargs = {\n",
    "    \"desc\": \"Loading predictions\",\n",
    "    \"unit\": \"line\",\n",
    "    \"total\": num_api_calls,\n",
    "}\n",
    "\n",
    "predictions = []\n",
    "with open(predictions_path, \"r\") as f:\n",
    "    for line in f:\n",
    "        predictions.append(json.loads(line.strip()))\n",
    "\n",
    "df = pd.DataFrame(predictions)\n",
    "print(f\"Loaded {len(df)} predictions\")\n",
    "df.head()"
   ]
  },
  {
   "cell_type": "markdown",
   "id": "b8917b0c",
   "metadata": {},
   "source": [
    "View a single prediction from the predictions file."
   ]
  },
  {
   "cell_type": "code",
   "execution_count": 13,
   "id": "e7c97c60",
   "metadata": {},
   "outputs": [
    {
     "data": {
      "text/plain": [
       "{'id': '25850214',\n",
       " 'user_request': \"I have some text containing multiple URLs, and I want to extract all of them in a list. Here is the text: 'Check out these cool websites: https://www.example1.com, http://www.example2.net and https://www.example3.org.'\",\n",
       " 'result': {'task_steps': ['Step 1: Extract all URLs from the provided text.'],\n",
       "  'task_nodes': [{'task': 'URL Extractor',\n",
       "    'arguments': ['Check out these cool websites: https://www.example1.com, http://www.example2.net and https://www.example3.org.']}]}}"
      ]
     },
     "execution_count": 13,
     "metadata": {},
     "output_type": "execute_result"
    }
   ],
   "source": [
    "predictions[0]"
   ]
  },
  {
   "cell_type": "markdown",
   "id": "b9ada829",
   "metadata": {},
   "source": [
    "Count the number of input tokens (`user_request`) and output tokens (`result`) across all predictions."
   ]
  },
  {
   "cell_type": "code",
   "execution_count": 14,
   "id": "b5694640",
   "metadata": {},
   "outputs": [
    {
     "data": {
      "application/vnd.jupyter.widget-view+json": {
       "model_id": "5e947d238bee4f4ba86d48f5f63f9dab",
       "version_major": 2,
       "version_minor": 0
      },
      "text/plain": [
       "Counting input and output tokens:   0%|          | 0/55 [00:00<?, ?prediction/s]"
      ]
     },
     "metadata": {},
     "output_type": "display_data"
    },
    {
     "name": "stdout",
     "output_type": "stream",
     "text": [
      "Number of input tokens across 55 predictions: 2269\n",
      "Number of output tokens across 55 predictions: 6186\n",
      "Total number of tokens across 55 predictions: 8455\n"
     ]
    }
   ],
   "source": [
    "enc = tiktoken.encoding_for_model(model)\n",
    "\n",
    "kwargs = {\n",
    "    \"desc\": \"Counting input and output tokens\",\n",
    "    \"unit\": \"prediction\",\n",
    "    \"total\": len(df),\n",
    "}\n",
    "\n",
    "num_input_tokens, num_output_tokens = 0, 0\n",
    "for _, row in tqdm(df.iterrows(), **kwargs):\n",
    "    num_input_tokens += len(enc.encode(row[\"user_request\"]))\n",
    "\n",
    "    # Serialize the dict into a string for counting\n",
    "    output_string = json.dumps(row[\"result\"], ensure_ascii=False)\n",
    "    num_output_tokens += len(enc.encode(output_string))\n",
    "\n",
    "print(f\"Number of input tokens across {len(df)} predictions: {num_input_tokens}\")\n",
    "print(f\"Number of output tokens across {len(df)} predictions: {num_output_tokens}\")\n",
    "print(\n",
    "    f\"Total number of tokens across {len(df)} predictions: {num_input_tokens + num_output_tokens}\"\n",
    ")"
   ]
  },
  {
   "cell_type": "markdown",
   "id": "bd447c63",
   "metadata": {},
   "source": [
    "Calculate the average number of input and output tokens per prediction."
   ]
  },
  {
   "cell_type": "code",
   "execution_count": 15,
   "id": "4030d06d",
   "metadata": {},
   "outputs": [
    {
     "name": "stdout",
     "output_type": "stream",
     "text": [
      "Average input tokens per prediction: 41\n",
      "Average output tokens per prediction: 112\n"
     ]
    }
   ],
   "source": [
    "# Average number of input tokens per prediction\n",
    "average_input_tokens = num_input_tokens / len(df)\n",
    "\n",
    "# Average number of output tokens per prediction\n",
    "average_output_tokens = num_output_tokens / len(df)\n",
    "\n",
    "print(f\"Average input tokens per prediction: {int(average_input_tokens)}\")\n",
    "print(f\"Average output tokens per prediction: {int(average_output_tokens)}\")"
   ]
  },
  {
   "cell_type": "markdown",
   "id": "2edd6117",
   "metadata": {},
   "source": [
    "Estimate the cost for using GPT-4 on all of the generated predictions. \n",
    "- [GPT-4](https://platform.openai.com/docs/models/gpt-4)'s price per 1M tokens\n",
    "- [GPT-OSS-120B](https://www.together.ai/pricing)'s price per 1M tokens"
   ]
  },
  {
   "cell_type": "code",
   "execution_count": null,
   "id": "a927705d",
   "metadata": {},
   "outputs": [
    {
     "name": "stdout",
     "output_type": "stream",
     "text": [
      "Estimated input token cost for 55 predictions: $0.0000\n",
      "Estimated output token cost for 55 predictions: $0.0004\n",
      "Estimated total cost for 55 predictions: $0.0004\n"
     ]
    }
   ],
   "source": [
    "# per_input_token_cost = 30 / 1_000_000  # $30 per 1M input tokens\n",
    "# per_output_token_cost = 60 / 1_000_000  # $60 per 1M output tokens\n",
    "\n",
    "per_input_token_cost = 0.15 / 1e7  # $0.15 per 1M input tokens\n",
    "per_output_token_cost = 0.60 / 1e7  # $0.60 per 1M output tokens\n",
    "\n",
    "input_token_cost = num_input_tokens * per_input_token_cost\n",
    "output_token_cost = num_output_tokens * per_output_token_cost\n",
    "total_cost = input_token_cost + output_token_cost\n",
    "\n",
    "print(\n",
    "    f\"Estimated input token cost for {num_api_calls} predictions: \"\n",
    "    f\"${input_token_cost:.4f}\"\n",
    ")\n",
    "print(\n",
    "    f\"Estimated output token cost for {num_api_calls} predictions: \"\n",
    "    f\"${output_token_cost:.4f}\"\n",
    ")\n",
    "print(f\"Estimated total cost for {num_api_calls} predictions: ${total_cost:.4f}\")"
   ]
  },
  {
   "cell_type": "markdown",
   "id": "c2a97b66",
   "metadata": {},
   "source": [
    "Estimate the average cost of using GPT-4 on a single prediction."
   ]
  },
  {
   "cell_type": "code",
   "execution_count": 21,
   "id": "1eaaa97c",
   "metadata": {},
   "outputs": [
    {
     "name": "stdout",
     "output_type": "stream",
     "text": [
      "Estimated input token cost for one prediction: $6.188182e-07\n",
      "Estimated output token cost for one prediction: $6.748364e-06\n",
      "Estimated total cost for one prediction: $7.367182e-06\n"
     ]
    }
   ],
   "source": [
    "# Estimated input token cost for one prediction\n",
    "average_input_token_cost = average_input_tokens * per_input_token_cost\n",
    "\n",
    "# Estimated output token cost for one prediction\n",
    "average_output_token_cost = average_output_tokens * per_output_token_cost\n",
    "\n",
    "# Estimated total cost for one prediction\n",
    "average_total_cost = average_input_token_cost + average_output_token_cost\n",
    "\n",
    "print(f\"Estimated input token cost for one prediction: ${average_input_token_cost:3e}\")\n",
    "print(\n",
    "    f\"Estimated output token cost for one prediction: ${average_output_token_cost:3e}\"\n",
    ")\n",
    "print(f\"Estimated total cost for one prediction: ${average_total_cost:3e}\")"
   ]
  },
  {
   "cell_type": "markdown",
   "id": "f32f175e",
   "metadata": {},
   "source": [
    "Estimate the total cost of using GPT-4 on all samples across all three TaskBench datasets."
   ]
  },
  {
   "cell_type": "code",
   "execution_count": 18,
   "id": "4538f116",
   "metadata": {},
   "outputs": [
    {
     "name": "stdout",
     "output_type": "stream",
     "text": [
      "Total number of samples across all TaskBench datasets: 17,331\n",
      "Estimated input token cost for 17,331 predictions: $0.01\n",
      "Estimated output token cost for 17,331 predictions: $0.12\n",
      "Estimated total cost for 17,331 predictions: $0.13\n"
     ]
    }
   ],
   "source": [
    "num_samples_map = {\n",
    "    \"dailylifeapis\": 4318,\n",
    "    \"huggingface\": 7458,\n",
    "    \"multimedia\": 5555,\n",
    "}\n",
    "\n",
    "# Number of samples is the same as number of predictions\n",
    "total_samples = sum(num_samples_map.values())\n",
    "print(f\"Total number of samples across all TaskBench datasets: {total_samples:,}\")\n",
    "\n",
    "total_input_token_cost = total_samples * average_input_token_cost\n",
    "total_output_token_cost = total_samples * average_output_token_cost\n",
    "total_cost = total_input_token_cost + total_output_token_cost\n",
    "\n",
    "print(\n",
    "    f\"Estimated input token cost for {total_samples:,} predictions: \"\n",
    "    f\"${total_input_token_cost:.2f}\"\n",
    ")\n",
    "print(\n",
    "    f\"Estimated output token cost for {total_samples:,} predictions: \"\n",
    "    f\"${total_output_token_cost:.2f}\"\n",
    ")\n",
    "print(f\"Estimated total cost for {total_samples:,} predictions: ${total_cost:.2f}\")"
   ]
  }
 ],
 "metadata": {
  "kernelspec": {
   "display_name": "taskbench",
   "language": "python",
   "name": "python3"
  },
  "language_info": {
   "codemirror_mode": {
    "name": "ipython",
    "version": 3
   },
   "file_extension": ".py",
   "mimetype": "text/x-python",
   "name": "python",
   "nbconvert_exporter": "python",
   "pygments_lexer": "ipython3",
   "version": "3.8.20"
  }
 },
 "nbformat": 4,
 "nbformat_minor": 5
}
